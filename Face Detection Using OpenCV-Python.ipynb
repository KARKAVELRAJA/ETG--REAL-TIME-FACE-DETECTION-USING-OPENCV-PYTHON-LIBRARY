{
 "cells": [
  {
   "cell_type": "markdown",
   "metadata": {},
   "source": [
    "## REAL-TIME FACE DETECTION AND MAKING THE FACE BLUR USING THE OPENCV-PYTHON LIBRARY"
   ]
  },
  {
   "cell_type": "code",
   "execution_count": 11,
   "metadata": {},
   "outputs": [],
   "source": [
    "# importing necessary libraries for the face detection \n",
    "\n",
    "import numpy\n",
    "import cv2"
   ]
  },
  {
   "cell_type": "code",
   "execution_count": 12,
   "metadata": {},
   "outputs": [],
   "source": [
    "# training the model with existing face detection resources\n",
    "model = cv2.CascadeClassifier(\"Desktop//haarcascade_frontalface_default.xml\")\n",
    "\n",
    "# using the resource camera\n",
    "camera = cv2.VideoCapture(0)\n",
    "\n",
    "while True:\n",
    "    # reading the input frame from camera\n",
    "    _, frame = camera.read()\n",
    "    \n",
    "    # flipping the camera to get original image\n",
    "    frame    = cv2.flip(frame,1)\n",
    "    \n",
    "    # detecting the face in the camera\n",
    "    detect   = model.detectMultiScale(frame, 1.7, 3)\n",
    "    \n",
    "    # drawing the rectangle around the detected face \n",
    "    for (x,y,w,h) in detect:\n",
    "        cv2.rectangle(frame, (x,y), (x+w,y+h), (100,200,0), 4)\n",
    "        \n",
    "        # getting only face from the entire frame\n",
    "        face = frame[y:y+h,x:x+w,:]\n",
    "        \n",
    "        # blurring the face  \n",
    "        face = cv2.blur(face, (50,50))\n",
    "        frame[y:y+h,x:x+w,:] = face\n",
    "        \n",
    "    # showing the entire frame\n",
    "    cv2.imshow(\"Original Frame\",frame)\n",
    "    \n",
    "    # showing only face from the entire frame\n",
    "    cv2.imshow(\"Face Detected\",face)\n",
    "    \n",
    "    # display is waiting for the key to press\n",
    "    key = cv2.waitKey(30)\n",
    "    \n",
    "    # press \"a\" whose ASCII CODE is \"97\" to destroy all the windows \n",
    "    if key == 97:\n",
    "        cv2.destroyAllWindows()\n",
    "        break\n",
    "\n",
    "# releasing the resource camera\n",
    "\n",
    "camera.release()"
   ]
  }
 ],
 "metadata": {
  "kernelspec": {
   "display_name": "Python 3",
   "language": "python",
   "name": "python3"
  },
  "language_info": {
   "codemirror_mode": {
    "name": "ipython",
    "version": 3
   },
   "file_extension": ".py",
   "mimetype": "text/x-python",
   "name": "python",
   "nbconvert_exporter": "python",
   "pygments_lexer": "ipython3",
   "version": "3.8.5"
  }
 },
 "nbformat": 4,
 "nbformat_minor": 4
}
